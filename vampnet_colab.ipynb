{
  "cells": [
    {
      "cell_type": "markdown",
      "metadata": {
        "id": "view-in-github"
      },
      "source": [
        "[![Open In Colab](https://colab.research.google.com/assets/colab-badge.svg)](https://colab.research.google.com/github/camenduru/vampnet-colab/blob/main/vampnet_colab.ipynb)"
      ]
    },
    {
      "cell_type": "code",
      "execution_count": null,
      "metadata": {
        "id": "o4QePkTWCYd7"
      },
      "outputs": [],
      "source": [
        "%cd /content\n",
        "!git clone -b dev https://github.com/camenduru/vampnet-hf\n",
        "\n",
        "!pip install  argbind>=0.3.2 gradio loralib git+https://github.com/hugofloresgarcia/wavebeat git+https://github.com/hugofloresgarcia/lac.git git+https://github.com/hugofloresgarcia/audiotools.git\n",
        "\n",
        "!apt -y install -qq aria2\n",
        "!aria2c --console-log-level=error -c -x 16 -s 16 -k 1M https://huggingface.co/camenduru/vampnet/resolve/main/wavebeat.pth -d /content/vampnet-hf/models -o wavebeat.pth\n",
        "!aria2c --console-log-level=error -c -x 16 -s 16 -k 1M https://huggingface.co/camenduru/vampnet/resolve/main/vampnet/c2f.pth -d /content/vampnet-hf/models/vampnet -o c2f.pth\n",
        "!aria2c --console-log-level=error -c -x 16 -s 16 -k 1M https://huggingface.co/camenduru/vampnet/resolve/main/vampnet/coarse.pth -d /content/vampnet-hf/models/vampnet -o coarse.pth\n",
        "!aria2c --console-log-level=error -c -x 16 -s 16 -k 1M https://huggingface.co/camenduru/vampnet/resolve/main/vampnet/codec.pth -d /content/vampnet-hf/models/vampnet -o codec.pth\n",
        "\n",
        "%cd /content/vampnet-hf\n",
        "!python app.py"
      ]
    }
  ],
  "metadata": {
    "accelerator": "GPU",
    "colab": {
      "gpuType": "T4",
      "provenance": []
    },
    "kernelspec": {
      "display_name": "Python 3",
      "name": "python3"
    },
    "language_info": {
      "name": "python"
    }
  },
  "nbformat": 4,
  "nbformat_minor": 0
}
